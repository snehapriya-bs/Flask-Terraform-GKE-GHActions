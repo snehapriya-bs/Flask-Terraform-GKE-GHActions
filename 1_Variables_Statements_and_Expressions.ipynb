{
  "nbformat": 4,
  "nbformat_minor": 0,
  "metadata": {
    "colab": {
      "provenance": [],
      "toc_visible": true,
      "include_colab_link": true
    },
    "kernelspec": {
      "name": "python3",
      "display_name": "Python 3"
    },
    "language_info": {
      "name": "python"
    }
  },
  "cells": [
    {
      "cell_type": "markdown",
      "metadata": {
        "id": "view-in-github",
        "colab_type": "text"
      },
      "source": [
        "<a href=\"https://colab.research.google.com/github/snehapriya-bs/Flask-Terraform-GKE-GHActions/blob/main/1_Variables_Statements_and_Expressions.ipynb\" target=\"_parent\"><img src=\"https://colab.research.google.com/assets/colab-badge.svg\" alt=\"Open In Colab\"/></a>"
      ]
    },
    {
      "cell_type": "code",
      "source": [
        "#@title Walkthrough Video\n",
        "from IPython.display import HTML\n",
        "HTML(\"\"\"<video width=\"800\" height=\"600\" controls>\n",
        "<source src=\"https://cdn.exec.talentsprint.com/content/1_Variables_Statements_and_Expressions.mp4\">\n",
        "</video>\"\"\")"
      ],
      "metadata": {
        "id": "GirOtkvruSLr",
        "cellView": "form"
      },
      "execution_count": null,
      "outputs": []
    },
    {
      "cell_type": "markdown",
      "source": [
        "# **Variables**\n",
        "\n",
        "A memory location that stores values or a data unit whith in a program\n",
        "- this can be accesed and changed during the program run time\n",
        "- value can be called up through a variable name\n",
        "\n",
        "A value can be anything such as number, character, string, float..etc\n",
        "\n",
        "It is created by using Assignment operator\n",
        "\n",
        "**Rules for naming a variable:** called as an identifier\n",
        "\n",
        "- A variable can only begin with (A-Z/a-z) or with an _(underscore)\n",
        "- The rest of the identifier may contain (a-z/A-Z) or with an _ or with the numbers(0-9)\n",
        "- These are case sensitive\n",
        "\n",
        "eg: accepted: spam, eggs, spam23, _speed X, X1, X33, AB_, _S1\n",
        "unacceptable: 23spam, #sign, var1.2\n",
        "\n",
        "- reserved keywords cannot be used as variable names as they are already reserved, There are 33 reserved keywords in python\n",
        "\n",
        "\n"
      ],
      "metadata": {
        "id": "TOsMovfvEGRc"
      }
    },
    {
      "cell_type": "code",
      "source": [
        "#First variable\n",
        "\n",
        "X = 12.2  #here = is the assignment operator, X is the variable, and 12.2 is the assigned value\n",
        "print(X)"
      ],
      "metadata": {
        "id": "c54jz4G3FctD"
      },
      "execution_count": null,
      "outputs": []
    },
    {
      "cell_type": "code",
      "source": [
        "X = 100\n",
        "print(X) #here x is assigned another value hence now x value is 100"
      ],
      "metadata": {
        "id": "W2mYl0VCY-me"
      },
      "execution_count": null,
      "outputs": []
    },
    {
      "cell_type": "code",
      "source": [
        "# Keywords in Python\n",
        "\n",
        "import keyword\n",
        "\n",
        "print(keyword.kwlist) #These are the reserved keywords and cannot be used as variables"
      ],
      "metadata": {
        "id": "h-wSGOf8HAV-",
        "colab": {
          "base_uri": "https://localhost:8080/"
        },
        "outputId": "372e5e8a-e981-439a-9174-88c61bf578cf"
      },
      "execution_count": null,
      "outputs": [
        {
          "output_type": "stream",
          "name": "stdout",
          "text": [
            "['False', 'None', 'True', 'and', 'as', 'assert', 'async', 'await', 'break', 'class', 'continue', 'def', 'del', 'elif', 'else', 'except', 'finally', 'for', 'from', 'global', 'if', 'import', 'in', 'is', 'lambda', 'nonlocal', 'not', 'or', 'pass', 'raise', 'return', 'try', 'while', 'with', 'yield']\n"
          ]
        }
      ]
    },
    {
      "cell_type": "markdown",
      "source": [
        "Mnemonic Variable\n",
        "\n",
        "- these are the memory aids, says us to choose simple variable names not using reserved words.\n",
        "- Variable should reflect our intent on what data is stored in a variable\n",
        "- Lastly we need to create a variable which makes more sense while using them\n",
        "\n",
        "For example, here are three programs which differentiates the difference:\n"
      ],
      "metadata": {
        "id": "40fz_kfwM23a"
      }
    },
    {
      "cell_type": "code",
      "source": [
        "# first example\n",
        "x1q329acd = 35.0\n",
        "x1q3z9afd = 12.50\n",
        "x1q3pq9afd = x1q329acd * x1q3z9afd\n",
        "print(x1q3pq9afd)"
      ],
      "metadata": {
        "id": "7RPlCy4VL4wy"
      },
      "execution_count": null,
      "outputs": []
    },
    {
      "cell_type": "code",
      "source": [
        "# second example\n",
        "a = 35.0\n",
        "b = 12.50\n",
        "c = a*b\n",
        "print(c)"
      ],
      "metadata": {
        "id": "yuvTSxVdNxjD"
      },
      "execution_count": null,
      "outputs": []
    },
    {
      "cell_type": "code",
      "source": [
        "#third example\n",
        "hrs = 35.0  # this has the clear understanding of why we used those variables\n",
        "rate = 12.50\n",
        "pay = hrs*rate\n",
        "print(pay)"
      ],
      "metadata": {
        "id": "EC5G2ke_N214"
      },
      "execution_count": null,
      "outputs": []
    },
    {
      "cell_type": "markdown",
      "source": [
        "**Constant**\n",
        "\n",
        "Constant is a types of variable whose value cannot be changed\n",
        "- python doesn't have built in constant types, but by convention, the variable name with all capital letters used to define a constant.\n",
        "\n",
        "eg: FILE_SIZE_LIMIT = 2000,\n",
        "    PI = 3.14"
      ],
      "metadata": {
        "id": "A2i9DzI7OTn4"
      }
    },
    {
      "cell_type": "markdown",
      "source": [
        "**Variable Data Types**\n",
        "Based on the data type of the variable, python allocates memory and decides what can be stored\n",
        " 1. NUMERIC:\n",
        "      - Int     X = 10\n",
        "      - float   X = 10.5\n",
        "      - complex X = 10+0j\n",
        " 2. SEQUENCE:\n",
        "      - strings x = \"hi my name is\" or x = 'hi my name is'\n",
        "      - List\n",
        "      - Tuple\n",
        " 3. Others:\n",
        "      - Boolean\n",
        "      - set\n",
        "      - Dictionaries\n"
      ],
      "metadata": {
        "id": "x2ZA0U6jRIFb"
      }
    },
    {
      "cell_type": "markdown",
      "source": [
        "Strongly typed: the variables do have a type and that matters while doing the operations on variables\n",
        "\n",
        "dynamically typed: type is determined only during run time\n",
        "\n",
        "here some of the operations are prohibited for performing for example, performing addition on int and string datatypes"
      ],
      "metadata": {
        "id": "J_9bmAP-SzNL"
      }
    },
    {
      "cell_type": "code",
      "source": [
        "a = 17\n",
        "b = 'hello'\n",
        "c = a+b # here it should perform concatination not addition hence it throws error"
      ],
      "metadata": {
        "id": "Y0v-WE0COEgx",
        "colab": {
          "base_uri": "https://localhost:8080/",
          "height": 210
        },
        "outputId": "7e3c3780-dd7b-47b8-a744-a47233664942"
      },
      "execution_count": null,
      "outputs": [
        {
          "output_type": "error",
          "ename": "TypeError",
          "evalue": "ignored",
          "traceback": [
            "\u001b[0;31m---------------------------------------------------------------------------\u001b[0m",
            "\u001b[0;31mTypeError\u001b[0m                                 Traceback (most recent call last)",
            "\u001b[0;32m<ipython-input-2-902b284eb9e1>\u001b[0m in \u001b[0;36m<cell line: 3>\u001b[0;34m()\u001b[0m\n\u001b[1;32m      1\u001b[0m \u001b[0ma\u001b[0m \u001b[0;34m=\u001b[0m \u001b[0;36m17\u001b[0m\u001b[0;34m\u001b[0m\u001b[0;34m\u001b[0m\u001b[0m\n\u001b[1;32m      2\u001b[0m \u001b[0mb\u001b[0m \u001b[0;34m=\u001b[0m \u001b[0;34m'hello'\u001b[0m\u001b[0;34m\u001b[0m\u001b[0;34m\u001b[0m\u001b[0m\n\u001b[0;32m----> 3\u001b[0;31m \u001b[0mc\u001b[0m \u001b[0;34m=\u001b[0m \u001b[0ma\u001b[0m\u001b[0;34m+\u001b[0m\u001b[0mb\u001b[0m \u001b[0;31m# here it should perform concatination not addition hence it throws error\u001b[0m\u001b[0;34m\u001b[0m\u001b[0;34m\u001b[0m\u001b[0m\n\u001b[0m",
            "\u001b[0;31mTypeError\u001b[0m: unsupported operand type(s) for +: 'int' and 'str'"
          ]
        }
      ]
    },
    {
      "cell_type": "code",
      "source": [
        "# Type conversion (can be checked the type of data of the variable by type() function)\n",
        "x = 10\n",
        "type(x)\n",
        "a = 'hello'\n",
        "type(a)"
      ],
      "metadata": {
        "id": "YVcOu04nTuRC",
        "colab": {
          "base_uri": "https://localhost:8080/"
        },
        "outputId": "12884fa0-b078-439a-be95-5ba64cfde245"
      },
      "execution_count": null,
      "outputs": [
        {
          "output_type": "execute_result",
          "data": {
            "text/plain": [
              "str"
            ]
          },
          "metadata": {},
          "execution_count": 3
        }
      ]
    },
    {
      "cell_type": "code",
      "source": [
        "type(4)"
      ],
      "metadata": {
        "id": "dbH4XOr_V4ls",
        "colab": {
          "base_uri": "https://localhost:8080/"
        },
        "outputId": "3f6bc056-d537-4cb4-b7aa-3e558476882b"
      },
      "execution_count": null,
      "outputs": [
        {
          "output_type": "execute_result",
          "data": {
            "text/plain": [
              "int"
            ]
          },
          "metadata": {},
          "execution_count": 4
        }
      ]
    },
    {
      "cell_type": "code",
      "source": [
        "type('17.1')"
      ],
      "metadata": {
        "id": "bmHsLFovV82S",
        "colab": {
          "base_uri": "https://localhost:8080/"
        },
        "outputId": "88b6c0b9-3e0a-49db-fc54-79a9052eff4c"
      },
      "execution_count": null,
      "outputs": [
        {
          "output_type": "execute_result",
          "data": {
            "text/plain": [
              "str"
            ]
          },
          "metadata": {},
          "execution_count": 5
        }
      ]
    },
    {
      "cell_type": "markdown",
      "source": [
        "**Statements** : these are unit of code in python interpretor\n",
        "\n",
        "a = 2   Assignment statement\n",
        "\n",
        "a = a+2  assignment with expression\n",
        "\n",
        "print(a)  print statement\n",
        "\n",
        "There are two types of statements in python:\n",
        "- Single line statement - Assign a value to a variable\n",
        "\n",
        "- Multi line statement - A statement may span over several lines - Preferred style to handle multi-line expressions is to break a long statement over multiple lines, wrap the expression inside parentheses, braces, & brackets - Another way to wrap multiple lines is by using a backslash () at the end of every line to indicate line continuation"
      ],
      "metadata": {
        "id": "bfUsk9CxUM8D"
      }
    },
    {
      "cell_type": "markdown",
      "source": [
        "**Expressions**\n",
        "\n",
        "These are the combination of values, variables and operators\n",
        "- it may consist of one or more operands and 0 or more operators to produce a value\n",
        "- operators are +,-,*,%...etc\n",
        "\n",
        "order of operators(precedence): should know which operatior should perform first\n",
        "- python follows PEMDAS rule i.e., paranthisis,exponential,multiplication,division,reminder,addition and subtraction and performs Left to right"
      ],
      "metadata": {
        "id": "LvKHRUJEWQpT"
      }
    },
    {
      "cell_type": "code",
      "source": [
        "final = a+5 #here final is the variable, a&5 are operands, + is operator combining called as expression"
      ],
      "metadata": {
        "id": "fEx4HAwXZ569"
      },
      "execution_count": null,
      "outputs": []
    },
    {
      "cell_type": "code",
      "source": [
        "# Arithmetic expressions\n",
        "a = 5\n",
        "b = 10\n",
        "x1 = a+b #addition\n",
        "x2 = a-b # subtraction\n",
        "x3 = a*b # multiplication\n",
        "x4 = a/b # floating division\n",
        "x5 = a//b # truncating division\n",
        "x6 = a%b  # modulo\n",
        "x7 = a**b # exponential\n",
        "print(x1)\n",
        "print(x2)\n",
        "print(x3)\n",
        "print(x4)\n",
        "print(x5)\n",
        "print(x6)\n",
        "print(x7)\n",
        "\n"
      ],
      "metadata": {
        "id": "j6ZFbBrZUDxe"
      },
      "execution_count": null,
      "outputs": []
    },
    {
      "cell_type": "code",
      "source": [
        "#order of operation example\n",
        "\n",
        "x = 1+2**3/4*5  # here first paranthisis is done followed by exponential followed by multiplication and division\n",
        "print(x)"
      ],
      "metadata": {
        "id": "e5SAfJAkZny3"
      },
      "execution_count": null,
      "outputs": []
    },
    {
      "cell_type": "markdown",
      "source": [
        "**Type conversion**\n",
        "\n",
        "we have two types of type conversions\n",
        "1. explicit type conversion: which can be done manuall, supports various built in type conversion funtions such as int(), float(), str()...etc\n",
        "    syntax: required_datatype(expression)\n",
        "\n",
        "2. Implicit type conversion: here python interpreter automatically convertes during the run time\n",
        "- converts smallerr data type to longer data type to avoid losses\n",
        "\n",
        "eg: addition of a integer and float value results in float value\n",
        "\n",
        "- it has problem with all the conversions because it does not suport all the data types, for example addition of str and integer or float, it throws error as it is not a numeric"
      ],
      "metadata": {
        "id": "gcDRX2dZbKFc"
      }
    },
    {
      "cell_type": "code",
      "source": [
        "# explicit type conversion\n",
        "x = '30'\n",
        "y = '8'\n",
        "q = float(x)*float(y) # here we can converting str() to int() manually and performing operations\n",
        "print(q)"
      ],
      "metadata": {
        "id": "qlvAK2Q8ae7n"
      },
      "execution_count": null,
      "outputs": []
    },
    {
      "cell_type": "code",
      "source": [
        "# implicit type conversion\n",
        "x = 123\n",
        "y = 1.23\n",
        "z = x+y\n",
        "print(z)\n",
        "type(z)"
      ],
      "metadata": {
        "id": "Lqn23fjIcDNd"
      },
      "execution_count": null,
      "outputs": []
    },
    {
      "cell_type": "code",
      "source": [
        "x = 123\n",
        "y = '456'\n",
        "z = x+y\n",
        "print(z)"
      ],
      "metadata": {
        "id": "dK2Wpxwidq6A"
      },
      "execution_count": null,
      "outputs": []
    },
    {
      "cell_type": "markdown",
      "source": [
        "**USER INPUT**\n",
        "python allows user to give input at the runtime by usint input() function\n",
        "\n",
        "converting user input: if we want to convert the string to number from the input we need to use type conversion function, as all the inputs are strings"
      ],
      "metadata": {
        "id": "zxEnM7ASdbGE"
      }
    },
    {
      "cell_type": "code",
      "source": [
        "name = input(\"who are you\")\n",
        "print(\"welcome\",name)"
      ],
      "metadata": {
        "id": "-mjSi7FGdThh"
      },
      "execution_count": null,
      "outputs": []
    },
    {
      "cell_type": "code",
      "source": [
        "# converting user input\n",
        "x = float(input(\"enter number\")) # it takes input as string and converts to int\n",
        "y = x+1\n",
        "print(y)\n",
        "type(y)"
      ],
      "metadata": {
        "id": "bjUIyqPBd20G"
      },
      "execution_count": null,
      "outputs": []
    },
    {
      "cell_type": "markdown",
      "source": [
        "**Comments in python**\n",
        "These are used to explain the code in python and it can be anything.\n",
        "- these are represented by # for single line comments, and ''' ''' for multiple line comments\n",
        "- the matter written after # and in between ''' ''' are ignored by the interpreter."
      ],
      "metadata": {
        "id": "0yIWAaxwe1qx"
      }
    },
    {
      "cell_type": "code",
      "source": [
        "# these are comments and there are not printed at the time of output\n",
        "''' these are multiple line comments\n",
        "the comments which are written to explain the code,\n",
        "these are also avoided by the interpreter and are not executed but shows at the output'''"
      ],
      "metadata": {
        "id": "dslshFivfQJU"
      },
      "execution_count": null,
      "outputs": []
    },
    {
      "cell_type": "code",
      "source": [],
      "metadata": {
        "id": "0-R5OG5r0Ovk"
      },
      "execution_count": null,
      "outputs": []
    }
  ]
}